{
 "cells": [
  {
   "cell_type": "markdown",
   "metadata": {},
   "source": [
    "# Data block API foundations"
   ]
  },
  {
   "cell_type": "code",
   "execution_count": 1,
   "metadata": {},
   "outputs": [],
   "source": [
    "#!pip install torch\n",
    "#!pip install conda\n",
    "#!pip install matplotlib\n",
    "#!pip install pandas\n",
    "#!pip install image\n",
    "#!pip install -U scikit-learn scipy\n",
    "#!pip install category_encoders\n",
    "#!pip install patsy\n",
    "#!pip install snorkel"
   ]
  },
  {
   "cell_type": "code",
   "execution_count": 99,
   "metadata": {},
   "outputs": [
    {
     "name": "stdout",
     "output_type": "stream",
     "text": [
      "The autoreload extension is already loaded. To reload it, use:\n",
      "  %reload_ext autoreload\n"
     ]
    }
   ],
   "source": [
    "%load_ext autoreload\n",
    "%autoreload 2\n",
    "\n",
    "\n",
    "%matplotlib inline\n"
   ]
  },
  {
   "cell_type": "markdown",
   "metadata": {},
   "source": [
    "#https://xavierbourretsicotte.github.io/gaussian_mixture.html\n",
    "#https://xavierbourretsicotte.github.io/gaussian_mixture.html\n",
    "#notes"
   ]
  },
  {
   "cell_type": "code",
   "execution_count": 100,
   "metadata": {},
   "outputs": [
    {
     "name": "stdout",
     "output_type": "stream",
     "text": [
      "['Small Training Set.csv', 'KDDTest+.csv', '20 Percent Training Set.csv', 'KDDTrain+_20Percent.txt', 'Original NSL KDD Zip.zip', 'KDDTrain+.txt', 'NSL_KDD-master', 'KDDTest-21.txt', 'KDDTest+.txt', 'Field Names.csv', 'NSL_KDD-master.zip', 'ReadMe.txt', 'cs229', 'Attack Types.csv', 'Field Names.docx', 'KDDTrain+.csv']\n"
     ]
    }
   ],
   "source": [
    "\n",
    "import torch\n",
    "import torch.nn.functional as F\n",
    "from torch.nn import init\n",
    "from torch import nn\n",
    "from torch import optim\n",
    "from torch.utils.data import DataLoader, SequentialSampler, RandomSampler\n",
    "\n",
    "import pandas as pd\n",
    "import numpy as np\n",
    "\n",
    "from pathlib import Path\n",
    "from IPython.core.debugger import set_trace\n",
    "import pickle, gzip, math, torch, matplotlib as mpl\n",
    "from torch import tensor\n",
    "\n",
    "from functools import partial\n",
    "from typing import *\n",
    "import re\n",
    "import os\n",
    "from collections import defaultdict\n",
    "\n",
    "from sklearn.metrics import confusion_matrix\n",
    "from scipy.stats import mode\n",
    "from scipy.stats import multivariate_normal\n",
    "#numeric encoding\n",
    "#https://scikit-learn.org/stable/modules/generated/sklearn.preprocessing.LabelEncoder.html\n",
    "from sklearn.preprocessing import LabelEncoder\n",
    "\n",
    "\n",
    "\n",
    "#from cs229_main1 import *\n",
    "#from cs229_labeler import *\n",
    "#from cs229_model_gmm import *\n",
    "from gmm import *\n",
    "\n",
    "\n",
    "\n",
    "\n",
    "import matplotlib.pyplot as plt\n",
    "from matplotlib import patches\n",
    "import PIL,os,mimetypes\n",
    "import json, pdb\n",
    "from PIL import ImageDraw, ImageFont\n",
    "from matplotlib import patches, patheffects\n",
    "torch.set_num_threads(2)\n",
    "#torch.cuda.set_device(0)\n",
    "torch.backends.cudnn.benchmark=True\n",
    "\n",
    "from sklearn.mixture import GaussianMixture\n",
    "\n",
    "from snorkel.labeling import labeling_function\n",
    "\n",
    "\n",
    "print(os.listdir(\"./data/\"))"
   ]
  },
  {
   "cell_type": "markdown",
   "metadata": {},
   "source": [
    "# Setup Get image files"
   ]
  },
  {
   "cell_type": "code",
   "execution_count": 101,
   "metadata": {},
   "outputs": [
    {
     "data": {
      "text/plain": [
       "[PosixPath('data/cs229/test'),\n",
       " PosixPath('data/cs229/training_attack_types.txt'),\n",
       " PosixPath('data/cs229/train')]"
      ]
     },
     "execution_count": 101,
     "metadata": {},
     "output_type": "execute_result"
    }
   ],
   "source": [
    "#ls\n",
    "Path.ls = lambda x: list(x.iterdir())\n",
    "\n",
    "PATH = Path('./data/')\n",
    "JPEGS = 'cs229'\n",
    "IMG_PATH = PATH/JPEGS\n",
    "\n",
    "#path = Path('../../../data/cs229/tmp')\n",
    "path = Path('./data/cs229')\n",
    "path.ls()"
   ]
  },
  {
   "cell_type": "code",
   "execution_count": 102,
   "metadata": {},
   "outputs": [
    {
     "data": {
      "text/plain": [
       "PosixPath('data/cs229/train/training.csv')"
      ]
     },
     "execution_count": 102,
     "metadata": {},
     "output_type": "execute_result"
    }
   ],
   "source": [
    "path_train = path/'train'\n",
    "path_test  = path/'test'\n",
    "img_fn = path_train.ls()[0]\n",
    "img_fn\n"
   ]
  },
  {
   "cell_type": "code",
   "execution_count": 103,
   "metadata": {},
   "outputs": [
    {
     "data": {
      "text/html": [
       "<div>\n",
       "<style scoped>\n",
       "    .dataframe tbody tr th:only-of-type {\n",
       "        vertical-align: middle;\n",
       "    }\n",
       "\n",
       "    .dataframe tbody tr th {\n",
       "        vertical-align: top;\n",
       "    }\n",
       "\n",
       "    .dataframe thead th {\n",
       "        text-align: right;\n",
       "    }\n",
       "</style>\n",
       "<table border=\"1\" class=\"dataframe\">\n",
       "  <thead>\n",
       "    <tr style=\"text-align: right;\">\n",
       "      <th></th>\n",
       "      <th>duration</th>\n",
       "      <th>protocol_type</th>\n",
       "      <th>service</th>\n",
       "      <th>flag</th>\n",
       "      <th>src_bytes</th>\n",
       "      <th>dst_bytes</th>\n",
       "      <th>land</th>\n",
       "      <th>wrong_fragment</th>\n",
       "      <th>urgent</th>\n",
       "      <th>hot</th>\n",
       "      <th>...</th>\n",
       "      <th>dst_host_same_srv_rate</th>\n",
       "      <th>dst_host_diff_srv_rate</th>\n",
       "      <th>dst_host_same_src_port_rate</th>\n",
       "      <th>dst_host_srv_diff_host_rate</th>\n",
       "      <th>dst_host_serror_rate</th>\n",
       "      <th>dst_host_srv_serror_rate</th>\n",
       "      <th>dst_host_rerror_rate</th>\n",
       "      <th>dst_host_srv_rerror_rate</th>\n",
       "      <th>type</th>\n",
       "      <th>success_pred</th>\n",
       "    </tr>\n",
       "  </thead>\n",
       "  <tbody>\n",
       "    <tr>\n",
       "      <th>0</th>\n",
       "      <td>0</td>\n",
       "      <td>tcp</td>\n",
       "      <td>ftp_data</td>\n",
       "      <td>SF</td>\n",
       "      <td>491</td>\n",
       "      <td>0</td>\n",
       "      <td>0</td>\n",
       "      <td>0</td>\n",
       "      <td>0</td>\n",
       "      <td>0</td>\n",
       "      <td>...</td>\n",
       "      <td>0.17</td>\n",
       "      <td>0.03</td>\n",
       "      <td>0.17</td>\n",
       "      <td>0.00</td>\n",
       "      <td>0.00</td>\n",
       "      <td>0.00</td>\n",
       "      <td>0.05</td>\n",
       "      <td>0.00</td>\n",
       "      <td>normal</td>\n",
       "      <td>20</td>\n",
       "    </tr>\n",
       "    <tr>\n",
       "      <th>1</th>\n",
       "      <td>0</td>\n",
       "      <td>udp</td>\n",
       "      <td>other</td>\n",
       "      <td>SF</td>\n",
       "      <td>146</td>\n",
       "      <td>0</td>\n",
       "      <td>0</td>\n",
       "      <td>0</td>\n",
       "      <td>0</td>\n",
       "      <td>0</td>\n",
       "      <td>...</td>\n",
       "      <td>0.00</td>\n",
       "      <td>0.60</td>\n",
       "      <td>0.88</td>\n",
       "      <td>0.00</td>\n",
       "      <td>0.00</td>\n",
       "      <td>0.00</td>\n",
       "      <td>0.00</td>\n",
       "      <td>0.00</td>\n",
       "      <td>normal</td>\n",
       "      <td>15</td>\n",
       "    </tr>\n",
       "    <tr>\n",
       "      <th>2</th>\n",
       "      <td>0</td>\n",
       "      <td>tcp</td>\n",
       "      <td>private</td>\n",
       "      <td>S0</td>\n",
       "      <td>0</td>\n",
       "      <td>0</td>\n",
       "      <td>0</td>\n",
       "      <td>0</td>\n",
       "      <td>0</td>\n",
       "      <td>0</td>\n",
       "      <td>...</td>\n",
       "      <td>0.10</td>\n",
       "      <td>0.05</td>\n",
       "      <td>0.00</td>\n",
       "      <td>0.00</td>\n",
       "      <td>1.00</td>\n",
       "      <td>1.00</td>\n",
       "      <td>0.00</td>\n",
       "      <td>0.00</td>\n",
       "      <td>neptune</td>\n",
       "      <td>19</td>\n",
       "    </tr>\n",
       "    <tr>\n",
       "      <th>3</th>\n",
       "      <td>0</td>\n",
       "      <td>tcp</td>\n",
       "      <td>http</td>\n",
       "      <td>SF</td>\n",
       "      <td>232</td>\n",
       "      <td>8153</td>\n",
       "      <td>0</td>\n",
       "      <td>0</td>\n",
       "      <td>0</td>\n",
       "      <td>0</td>\n",
       "      <td>...</td>\n",
       "      <td>1.00</td>\n",
       "      <td>0.00</td>\n",
       "      <td>0.03</td>\n",
       "      <td>0.04</td>\n",
       "      <td>0.03</td>\n",
       "      <td>0.01</td>\n",
       "      <td>0.00</td>\n",
       "      <td>0.01</td>\n",
       "      <td>normal</td>\n",
       "      <td>21</td>\n",
       "    </tr>\n",
       "    <tr>\n",
       "      <th>4</th>\n",
       "      <td>0</td>\n",
       "      <td>tcp</td>\n",
       "      <td>http</td>\n",
       "      <td>SF</td>\n",
       "      <td>199</td>\n",
       "      <td>420</td>\n",
       "      <td>0</td>\n",
       "      <td>0</td>\n",
       "      <td>0</td>\n",
       "      <td>0</td>\n",
       "      <td>...</td>\n",
       "      <td>1.00</td>\n",
       "      <td>0.00</td>\n",
       "      <td>0.00</td>\n",
       "      <td>0.00</td>\n",
       "      <td>0.00</td>\n",
       "      <td>0.00</td>\n",
       "      <td>0.00</td>\n",
       "      <td>0.00</td>\n",
       "      <td>normal</td>\n",
       "      <td>21</td>\n",
       "    </tr>\n",
       "  </tbody>\n",
       "</table>\n",
       "<p>5 rows × 43 columns</p>\n",
       "</div>"
      ],
      "text/plain": [
       "   duration protocol_type   service flag  src_bytes  dst_bytes  land  \\\n",
       "0         0           tcp  ftp_data   SF        491          0     0   \n",
       "1         0           udp     other   SF        146          0     0   \n",
       "2         0           tcp   private   S0          0          0     0   \n",
       "3         0           tcp      http   SF        232       8153     0   \n",
       "4         0           tcp      http   SF        199        420     0   \n",
       "\n",
       "   wrong_fragment  urgent  hot  ...  dst_host_same_srv_rate  \\\n",
       "0               0       0    0  ...                    0.17   \n",
       "1               0       0    0  ...                    0.00   \n",
       "2               0       0    0  ...                    0.10   \n",
       "3               0       0    0  ...                    1.00   \n",
       "4               0       0    0  ...                    1.00   \n",
       "\n",
       "   dst_host_diff_srv_rate  dst_host_same_src_port_rate  \\\n",
       "0                    0.03                         0.17   \n",
       "1                    0.60                         0.88   \n",
       "2                    0.05                         0.00   \n",
       "3                    0.00                         0.03   \n",
       "4                    0.00                         0.00   \n",
       "\n",
       "   dst_host_srv_diff_host_rate  dst_host_serror_rate  \\\n",
       "0                         0.00                  0.00   \n",
       "1                         0.00                  0.00   \n",
       "2                         0.00                  1.00   \n",
       "3                         0.04                  0.03   \n",
       "4                         0.00                  0.00   \n",
       "\n",
       "   dst_host_srv_serror_rate  dst_host_rerror_rate  dst_host_srv_rerror_rate  \\\n",
       "0                      0.00                  0.05                      0.00   \n",
       "1                      0.00                  0.00                      0.00   \n",
       "2                      1.00                  0.00                      0.00   \n",
       "3                      0.01                  0.00                      0.01   \n",
       "4                      0.00                  0.00                      0.00   \n",
       "\n",
       "      type  success_pred  \n",
       "0   normal            20  \n",
       "1   normal            15  \n",
       "2  neptune            19  \n",
       "3   normal            21  \n",
       "4   normal            21  \n",
       "\n",
       "[5 rows x 43 columns]"
      ]
     },
     "execution_count": 103,
     "metadata": {},
     "output_type": "execute_result"
    }
   ],
   "source": [
    "traindata = pd.read_csv(path_train.ls()[0], header=None,names=['duration', 'protocol_type', 'service', 'flag', 'src_bytes', 'dst_bytes', 'land', 'wrong_fragment', 'urgent', 'hot', 'num_failed_logins', 'logged_in', 'num_compromised', 'root_shell', 'su_attempted', 'num_root', 'num_file_creations', 'num_shells', 'num_access_files', 'num_outbound_cmds', 'is_host_login', 'is_guest_login', 'count', 'srv_count', 'serror_rate', 'srv_serror_rate', 'rerror_rate', 'srv_rerror_rate', 'same_srv_rate', 'diff_srv_rate', 'srv_diff_host_rate', 'dst_host_count', 'dst_host_srv_count', 'dst_host_same_srv_rate', 'dst_host_diff_srv_rate', 'dst_host_same_src_port_rate', 'dst_host_srv_diff_host_rate', 'dst_host_serror_rate', 'dst_host_srv_serror_rate', 'dst_host_rerror_rate', 'dst_host_srv_rerror_rate','type','success_pred'])\n",
    "testdata = pd.read_csv(path_test.ls()[0], header=None,names=['duration', 'protocol_type', 'service', 'flag', 'src_bytes', 'dst_bytes', 'land', 'wrong_fragment', 'urgent', 'hot', 'num_failed_logins', 'logged_in', 'num_compromised', 'root_shell', 'su_attempted', 'num_root', 'num_file_creations', 'num_shells', 'num_access_files', 'num_outbound_cmds', 'is_host_login', 'is_guest_login', 'count', 'srv_count', 'serror_rate', 'srv_serror_rate', 'rerror_rate', 'srv_rerror_rate', 'same_srv_rate', 'diff_srv_rate', 'srv_diff_host_rate', 'dst_host_count', 'dst_host_srv_count', 'dst_host_same_srv_rate', 'dst_host_diff_srv_rate', 'dst_host_same_src_port_rate', 'dst_host_srv_diff_host_rate', 'dst_host_serror_rate', 'dst_host_srv_serror_rate', 'dst_host_rerror_rate', 'dst_host_srv_rerror_rate','type','success_pred'])\n",
    "\n",
    "#headers\n",
    "traindata.head()\n",
    "#one row\n",
    "#traindata[1:1]\n"
   ]
  },
  {
   "cell_type": "code",
   "execution_count": 104,
   "metadata": {},
   "outputs": [
    {
     "name": "stdout",
     "output_type": "stream",
     "text": [
      "normal benign\n",
      "apache2 dos\n",
      "back dos\n",
      "mailbomb dos\n",
      "processtable dos\n",
      "snmpgetattack dos\n",
      "teardrop dos\n",
      "smurf dos\n",
      "land dos\n",
      "neptune dos\n",
      "pod dos\n",
      "udpstorm dos\n",
      "ps u2r\n",
      "buffer_overflow u2r\n",
      "perl u2r\n",
      "rootkit u2r\n",
      "loadmodule u2r\n",
      "xterm u2r\n",
      "sqlattack u2r\n",
      "httptunnel u2r\n",
      "ftp_write r2l\n",
      "guess_passwd r2l\n",
      "snmpguess r2l\n",
      "imap r2l\n",
      "spy r2l\n",
      "warezclient r2l\n",
      "warezmaster r2l\n",
      "multihop r2l\n",
      "phf r2l\n",
      "named r2l\n",
      "sendmail r2l\n",
      "xlock r2l\n",
      "xsnoop r2l\n",
      "worm probe\n",
      "nmap probe\n",
      "ipsweep probe\n",
      "portsweep probe\n",
      "satan probe\n",
      "mscan probe\n",
      "saint probe\n"
     ]
    }
   ],
   "source": [
    "# 22  attach catagories\n",
    "category = defaultdict(list)\n",
    "category[\"benign\"].append(\"normal\")\n",
    "\n",
    "# read the attacking mapping file\n",
    "with open(path/'training_attack_types.txt', 'r') as f:\n",
    "     for line in f.readlines():\n",
    "         attack, cat = line.strip().split(' ')\n",
    "         #print(attack, cat)\n",
    "         category[cat].append(attack)\n",
    "     \n",
    "category\n",
    "\n",
    "attack_mapping = dict((v,k) for k in category for v in category[k])\n",
    "\n",
    "for k,v in attack_mapping.items():\n",
    "     print(k,v)"
   ]
  },
  {
   "cell_type": "code",
   "execution_count": 105,
   "metadata": {},
   "outputs": [
    {
     "data": {
      "text/html": [
       "<div>\n",
       "<style scoped>\n",
       "    .dataframe tbody tr th:only-of-type {\n",
       "        vertical-align: middle;\n",
       "    }\n",
       "\n",
       "    .dataframe tbody tr th {\n",
       "        vertical-align: top;\n",
       "    }\n",
       "\n",
       "    .dataframe thead th {\n",
       "        text-align: right;\n",
       "    }\n",
       "</style>\n",
       "<table border=\"1\" class=\"dataframe\">\n",
       "  <thead>\n",
       "    <tr style=\"text-align: right;\">\n",
       "      <th></th>\n",
       "      <th>duration</th>\n",
       "      <th>protocol_type</th>\n",
       "      <th>service</th>\n",
       "      <th>flag</th>\n",
       "      <th>src_bytes</th>\n",
       "      <th>dst_bytes</th>\n",
       "      <th>land</th>\n",
       "      <th>wrong_fragment</th>\n",
       "      <th>urgent</th>\n",
       "      <th>hot</th>\n",
       "      <th>...</th>\n",
       "      <th>dst_host_diff_srv_rate</th>\n",
       "      <th>dst_host_same_src_port_rate</th>\n",
       "      <th>dst_host_srv_diff_host_rate</th>\n",
       "      <th>dst_host_serror_rate</th>\n",
       "      <th>dst_host_srv_serror_rate</th>\n",
       "      <th>dst_host_rerror_rate</th>\n",
       "      <th>dst_host_srv_rerror_rate</th>\n",
       "      <th>type</th>\n",
       "      <th>success_pred</th>\n",
       "      <th>attack_catagory</th>\n",
       "    </tr>\n",
       "  </thead>\n",
       "  <tbody>\n",
       "    <tr>\n",
       "      <th>0</th>\n",
       "      <td>0</td>\n",
       "      <td>tcp</td>\n",
       "      <td>private</td>\n",
       "      <td>REJ</td>\n",
       "      <td>0</td>\n",
       "      <td>0</td>\n",
       "      <td>0</td>\n",
       "      <td>0</td>\n",
       "      <td>0</td>\n",
       "      <td>0</td>\n",
       "      <td>...</td>\n",
       "      <td>0.06</td>\n",
       "      <td>0.00</td>\n",
       "      <td>0.00</td>\n",
       "      <td>0.0</td>\n",
       "      <td>0.0</td>\n",
       "      <td>1.00</td>\n",
       "      <td>1.00</td>\n",
       "      <td>neptune</td>\n",
       "      <td>21</td>\n",
       "      <td>dos</td>\n",
       "    </tr>\n",
       "    <tr>\n",
       "      <th>1</th>\n",
       "      <td>0</td>\n",
       "      <td>tcp</td>\n",
       "      <td>private</td>\n",
       "      <td>REJ</td>\n",
       "      <td>0</td>\n",
       "      <td>0</td>\n",
       "      <td>0</td>\n",
       "      <td>0</td>\n",
       "      <td>0</td>\n",
       "      <td>0</td>\n",
       "      <td>...</td>\n",
       "      <td>0.06</td>\n",
       "      <td>0.00</td>\n",
       "      <td>0.00</td>\n",
       "      <td>0.0</td>\n",
       "      <td>0.0</td>\n",
       "      <td>1.00</td>\n",
       "      <td>1.00</td>\n",
       "      <td>neptune</td>\n",
       "      <td>21</td>\n",
       "      <td>dos</td>\n",
       "    </tr>\n",
       "    <tr>\n",
       "      <th>2</th>\n",
       "      <td>2</td>\n",
       "      <td>tcp</td>\n",
       "      <td>ftp_data</td>\n",
       "      <td>SF</td>\n",
       "      <td>12983</td>\n",
       "      <td>0</td>\n",
       "      <td>0</td>\n",
       "      <td>0</td>\n",
       "      <td>0</td>\n",
       "      <td>0</td>\n",
       "      <td>...</td>\n",
       "      <td>0.04</td>\n",
       "      <td>0.61</td>\n",
       "      <td>0.02</td>\n",
       "      <td>0.0</td>\n",
       "      <td>0.0</td>\n",
       "      <td>0.00</td>\n",
       "      <td>0.00</td>\n",
       "      <td>normal</td>\n",
       "      <td>21</td>\n",
       "      <td>benign</td>\n",
       "    </tr>\n",
       "    <tr>\n",
       "      <th>3</th>\n",
       "      <td>0</td>\n",
       "      <td>icmp</td>\n",
       "      <td>eco_i</td>\n",
       "      <td>SF</td>\n",
       "      <td>20</td>\n",
       "      <td>0</td>\n",
       "      <td>0</td>\n",
       "      <td>0</td>\n",
       "      <td>0</td>\n",
       "      <td>0</td>\n",
       "      <td>...</td>\n",
       "      <td>0.00</td>\n",
       "      <td>1.00</td>\n",
       "      <td>0.28</td>\n",
       "      <td>0.0</td>\n",
       "      <td>0.0</td>\n",
       "      <td>0.00</td>\n",
       "      <td>0.00</td>\n",
       "      <td>saint</td>\n",
       "      <td>15</td>\n",
       "      <td>probe</td>\n",
       "    </tr>\n",
       "    <tr>\n",
       "      <th>4</th>\n",
       "      <td>1</td>\n",
       "      <td>tcp</td>\n",
       "      <td>telnet</td>\n",
       "      <td>RSTO</td>\n",
       "      <td>0</td>\n",
       "      <td>15</td>\n",
       "      <td>0</td>\n",
       "      <td>0</td>\n",
       "      <td>0</td>\n",
       "      <td>0</td>\n",
       "      <td>...</td>\n",
       "      <td>0.17</td>\n",
       "      <td>0.03</td>\n",
       "      <td>0.02</td>\n",
       "      <td>0.0</td>\n",
       "      <td>0.0</td>\n",
       "      <td>0.83</td>\n",
       "      <td>0.71</td>\n",
       "      <td>mscan</td>\n",
       "      <td>11</td>\n",
       "      <td>probe</td>\n",
       "    </tr>\n",
       "  </tbody>\n",
       "</table>\n",
       "<p>5 rows × 44 columns</p>\n",
       "</div>"
      ],
      "text/plain": [
       "   duration protocol_type   service  flag  src_bytes  dst_bytes  land  \\\n",
       "0         0           tcp   private   REJ          0          0     0   \n",
       "1         0           tcp   private   REJ          0          0     0   \n",
       "2         2           tcp  ftp_data    SF      12983          0     0   \n",
       "3         0          icmp     eco_i    SF         20          0     0   \n",
       "4         1           tcp    telnet  RSTO          0         15     0   \n",
       "\n",
       "   wrong_fragment  urgent  hot  ...  dst_host_diff_srv_rate  \\\n",
       "0               0       0    0  ...                    0.06   \n",
       "1               0       0    0  ...                    0.06   \n",
       "2               0       0    0  ...                    0.04   \n",
       "3               0       0    0  ...                    0.00   \n",
       "4               0       0    0  ...                    0.17   \n",
       "\n",
       "   dst_host_same_src_port_rate  dst_host_srv_diff_host_rate  \\\n",
       "0                         0.00                         0.00   \n",
       "1                         0.00                         0.00   \n",
       "2                         0.61                         0.02   \n",
       "3                         1.00                         0.28   \n",
       "4                         0.03                         0.02   \n",
       "\n",
       "   dst_host_serror_rate  dst_host_srv_serror_rate  dst_host_rerror_rate  \\\n",
       "0                   0.0                       0.0                  1.00   \n",
       "1                   0.0                       0.0                  1.00   \n",
       "2                   0.0                       0.0                  0.00   \n",
       "3                   0.0                       0.0                  0.00   \n",
       "4                   0.0                       0.0                  0.83   \n",
       "\n",
       "   dst_host_srv_rerror_rate     type  success_pred  attack_catagory  \n",
       "0                      1.00  neptune            21              dos  \n",
       "1                      1.00  neptune            21              dos  \n",
       "2                      0.00   normal            21           benign  \n",
       "3                      0.00    saint            15            probe  \n",
       "4                      0.71    mscan            11            probe  \n",
       "\n",
       "[5 rows x 44 columns]"
      ]
     },
     "execution_count": 105,
     "metadata": {},
     "output_type": "execute_result"
    }
   ],
   "source": [
    "#add a new column \"attack_catagory\"\n",
    "traindata['attack_catagory'] = traindata['type'].map(lambda x: attack_mapping[x])\n",
    "testdata['attack_catagory'] = testdata['type'].map(lambda x: attack_mapping[x])\n",
    "testdata.head()"
   ]
  },
  {
   "cell_type": "code",
   "execution_count": 106,
   "metadata": {},
   "outputs": [],
   "source": [
    "#traindata[\"type\"].values\n",
    "# traindata.loc[~traindata[\"type\"].isin([\"normal\"]), 'type'] = 0\n",
    "# traindata.loc[traindata[\"type\"].isin([\"normal\"]), 'type'] = 1\n"
   ]
  },
  {
   "cell_type": "code",
   "execution_count": 107,
   "metadata": {},
   "outputs": [
    {
     "name": "stdout",
     "output_type": "stream",
     "text": [
      "normal             13449\n",
      "neptune             8282\n",
      "ipsweep              710\n",
      "satan                691\n",
      "portsweep            587\n",
      "smurf                529\n",
      "nmap                 301\n",
      "back                 196\n",
      "teardrop             188\n",
      "warezclient          181\n",
      "pod                   38\n",
      "guess_passwd          10\n",
      "warezmaster            7\n",
      "buffer_overflow        6\n",
      "imap                   5\n",
      "rootkit                4\n",
      "multihop               2\n",
      "phf                    2\n",
      "loadmodule             1\n",
      "spy                    1\n",
      "ftp_write              1\n",
      "land                   1\n",
      "Name: type, dtype: int64\n",
      "anomoly percentage 0.5338599555414417\n"
     ]
    }
   ],
   "source": [
    "count = traindata[\"type\"].value_counts()\n",
    "print(count)\n",
    "print(\"anomoly percentage\", count[0]/count.sum())"
   ]
  },
  {
   "cell_type": "code",
   "execution_count": 108,
   "metadata": {},
   "outputs": [],
   "source": [
    "# Differentiating between nominal, binary, and numeric features\n",
    "\n",
    "# root_shell is marked as a continuous feature in the kddcup.names \n",
    "# file, but it is supposed to be a binary feature according to the \n",
    "# dataset documentation\n",
    "header_names = ['duration', 'protocol_type', 'service', 'flag', 'src_bytes', 'dst_bytes', 'land', 'wrong_fragment', 'urgent', 'hot', 'num_failed_logins', 'logged_in', 'num_compromised', 'root_shell', 'su_attempted', 'num_root', 'num_file_creations', 'num_shells', 'num_access_files', 'num_outbound_cmds', 'is_host_login', 'is_guest_login', 'count', 'srv_count', 'serror_rate', 'srv_serror_rate', 'rerror_rate', 'srv_rerror_rate', 'same_srv_rate', 'diff_srv_rate', 'srv_diff_host_rate', 'dst_host_count', 'dst_host_srv_count', 'dst_host_same_srv_rate', 'dst_host_diff_srv_rate', 'dst_host_same_src_port_rate', 'dst_host_srv_diff_host_rate', 'dst_host_serror_rate', 'dst_host_srv_serror_rate', 'dst_host_rerror_rate', 'dst_host_srv_rerror_rate','type','success_pred']\n",
    "col_names = np.array(header_names)\n",
    "\n",
    "nominal_idx = [1, 2, 3]\n",
    "binary_idx = [6, 11, 13, 14, 20, 21]\n",
    "numeric_idx = list(set(range(41)).difference(nominal_idx).difference(binary_idx))\n",
    "\n",
    "nominal_cols = col_names[nominal_idx].tolist()\n",
    "binary_cols = col_names[binary_idx].tolist()\n",
    "numeric_cols = col_names[numeric_idx].tolist()"
   ]
  },
  {
   "cell_type": "code",
   "execution_count": 109,
   "metadata": {},
   "outputs": [
    {
     "data": {
      "text/plain": [
       "['protocol_type', 'service', 'flag']"
      ]
     },
     "execution_count": 109,
     "metadata": {},
     "output_type": "execute_result"
    }
   ],
   "source": [
    "nominal_cols"
   ]
  },
  {
   "cell_type": "code",
   "execution_count": 110,
   "metadata": {},
   "outputs": [
    {
     "data": {
      "text/plain": [
       "['land',\n",
       " 'logged_in',\n",
       " 'root_shell',\n",
       " 'su_attempted',\n",
       " 'is_host_login',\n",
       " 'is_guest_login']"
      ]
     },
     "execution_count": 110,
     "metadata": {},
     "output_type": "execute_result"
    }
   ],
   "source": [
    "binary_cols"
   ]
  },
  {
   "cell_type": "code",
   "execution_count": 111,
   "metadata": {},
   "outputs": [
    {
     "data": {
      "text/plain": [
       "['duration',\n",
       " 'src_bytes',\n",
       " 'dst_bytes',\n",
       " 'wrong_fragment',\n",
       " 'urgent',\n",
       " 'hot',\n",
       " 'num_failed_logins',\n",
       " 'num_compromised',\n",
       " 'num_root',\n",
       " 'num_file_creations',\n",
       " 'num_shells',\n",
       " 'num_access_files',\n",
       " 'num_outbound_cmds',\n",
       " 'count',\n",
       " 'srv_count',\n",
       " 'serror_rate',\n",
       " 'srv_serror_rate',\n",
       " 'rerror_rate',\n",
       " 'srv_rerror_rate',\n",
       " 'same_srv_rate',\n",
       " 'diff_srv_rate',\n",
       " 'srv_diff_host_rate',\n",
       " 'dst_host_count',\n",
       " 'dst_host_srv_count',\n",
       " 'dst_host_same_srv_rate',\n",
       " 'dst_host_diff_srv_rate',\n",
       " 'dst_host_same_src_port_rate',\n",
       " 'dst_host_srv_diff_host_rate',\n",
       " 'dst_host_serror_rate',\n",
       " 'dst_host_srv_serror_rate',\n",
       " 'dst_host_rerror_rate',\n",
       " 'dst_host_srv_rerror_rate']"
      ]
     },
     "execution_count": 111,
     "metadata": {},
     "output_type": "execute_result"
    }
   ],
   "source": [
    "numeric_cols"
   ]
  },
  {
   "cell_type": "code",
   "execution_count": 112,
   "metadata": {},
   "outputs": [
    {
     "data": {
      "text/html": [
       "<div>\n",
       "<style scoped>\n",
       "    .dataframe tbody tr th:only-of-type {\n",
       "        vertical-align: middle;\n",
       "    }\n",
       "\n",
       "    .dataframe tbody tr th {\n",
       "        vertical-align: top;\n",
       "    }\n",
       "\n",
       "    .dataframe thead th {\n",
       "        text-align: right;\n",
       "    }\n",
       "</style>\n",
       "<table border=\"1\" class=\"dataframe\">\n",
       "  <thead>\n",
       "    <tr style=\"text-align: right;\">\n",
       "      <th></th>\n",
       "      <th>count</th>\n",
       "      <th>mean</th>\n",
       "      <th>std</th>\n",
       "      <th>min</th>\n",
       "      <th>25%</th>\n",
       "      <th>50%</th>\n",
       "      <th>75%</th>\n",
       "      <th>max</th>\n",
       "    </tr>\n",
       "  </thead>\n",
       "  <tbody>\n",
       "    <tr>\n",
       "      <th>land</th>\n",
       "      <td>25192.0</td>\n",
       "      <td>0.000079</td>\n",
       "      <td>0.008910</td>\n",
       "      <td>0.0</td>\n",
       "      <td>0.0</td>\n",
       "      <td>0.0</td>\n",
       "      <td>0.0</td>\n",
       "      <td>1.0</td>\n",
       "    </tr>\n",
       "    <tr>\n",
       "      <th>logged_in</th>\n",
       "      <td>25192.0</td>\n",
       "      <td>0.394768</td>\n",
       "      <td>0.488811</td>\n",
       "      <td>0.0</td>\n",
       "      <td>0.0</td>\n",
       "      <td>0.0</td>\n",
       "      <td>1.0</td>\n",
       "      <td>1.0</td>\n",
       "    </tr>\n",
       "    <tr>\n",
       "      <th>root_shell</th>\n",
       "      <td>25192.0</td>\n",
       "      <td>0.001548</td>\n",
       "      <td>0.039316</td>\n",
       "      <td>0.0</td>\n",
       "      <td>0.0</td>\n",
       "      <td>0.0</td>\n",
       "      <td>0.0</td>\n",
       "      <td>1.0</td>\n",
       "    </tr>\n",
       "    <tr>\n",
       "      <th>su_attempted</th>\n",
       "      <td>25192.0</td>\n",
       "      <td>0.001350</td>\n",
       "      <td>0.048785</td>\n",
       "      <td>0.0</td>\n",
       "      <td>0.0</td>\n",
       "      <td>0.0</td>\n",
       "      <td>0.0</td>\n",
       "      <td>2.0</td>\n",
       "    </tr>\n",
       "    <tr>\n",
       "      <th>is_host_login</th>\n",
       "      <td>25192.0</td>\n",
       "      <td>0.000000</td>\n",
       "      <td>0.000000</td>\n",
       "      <td>0.0</td>\n",
       "      <td>0.0</td>\n",
       "      <td>0.0</td>\n",
       "      <td>0.0</td>\n",
       "      <td>0.0</td>\n",
       "    </tr>\n",
       "    <tr>\n",
       "      <th>is_guest_login</th>\n",
       "      <td>25192.0</td>\n",
       "      <td>0.009130</td>\n",
       "      <td>0.095115</td>\n",
       "      <td>0.0</td>\n",
       "      <td>0.0</td>\n",
       "      <td>0.0</td>\n",
       "      <td>0.0</td>\n",
       "      <td>1.0</td>\n",
       "    </tr>\n",
       "  </tbody>\n",
       "</table>\n",
       "</div>"
      ],
      "text/plain": [
       "                  count      mean       std  min  25%  50%  75%  max\n",
       "land            25192.0  0.000079  0.008910  0.0  0.0  0.0  0.0  1.0\n",
       "logged_in       25192.0  0.394768  0.488811  0.0  0.0  0.0  1.0  1.0\n",
       "root_shell      25192.0  0.001548  0.039316  0.0  0.0  0.0  0.0  1.0\n",
       "su_attempted    25192.0  0.001350  0.048785  0.0  0.0  0.0  0.0  2.0\n",
       "is_host_login   25192.0  0.000000  0.000000  0.0  0.0  0.0  0.0  0.0\n",
       "is_guest_login  25192.0  0.009130  0.095115  0.0  0.0  0.0  0.0  1.0"
      ]
     },
     "execution_count": 112,
     "metadata": {},
     "output_type": "execute_result"
    }
   ],
   "source": [
    "# Let's take a look at the binary features\n",
    "# By definition, all of these features should have a min of 0.0 and a max of 1.0\n",
    "\n",
    "traindata[binary_cols].describe().transpose()"
   ]
  },
  {
   "cell_type": "code",
   "execution_count": 113,
   "metadata": {},
   "outputs": [
    {
     "data": {
      "text/plain": [
       "su_attempted\n",
       "0    25171\n",
       "1        8\n",
       "2       13\n",
       "dtype: int64"
      ]
     },
     "execution_count": 113,
     "metadata": {},
     "output_type": "execute_result"
    }
   ],
   "source": [
    "#  the su_attempted column has a max value of 2.0?\n",
    "\n",
    "traindata.groupby(['su_attempted']).size()"
   ]
  },
  {
   "cell_type": "code",
   "execution_count": 114,
   "metadata": {},
   "outputs": [
    {
     "data": {
      "text/plain": [
       "su_attempted\n",
       "0    25184\n",
       "1        8\n",
       "dtype: int64"
      ]
     },
     "execution_count": 114,
     "metadata": {},
     "output_type": "execute_result"
    }
   ],
   "source": [
    "# Let's fix this discrepancy and assume that su_attempted=2 -> su_attempted=0\n",
    "\n",
    "traindata['su_attempted'].replace(2, 0, inplace=True)\n",
    "testdata['su_attempted'].replace(2, 0, inplace=True)\n",
    "traindata.groupby(['su_attempted']).size()"
   ]
  },
  {
   "cell_type": "code",
   "execution_count": 115,
   "metadata": {},
   "outputs": [
    {
     "data": {
      "text/plain": [
       "num_outbound_cmds\n",
       "0    25192\n",
       "dtype: int64"
      ]
     },
     "execution_count": 115,
     "metadata": {},
     "output_type": "execute_result"
    }
   ],
   "source": [
    "# Next, we notice that the num_outbound_cmds column only takes on one value!\n",
    "\n",
    "traindata.groupby(['num_outbound_cmds']).size()"
   ]
  },
  {
   "cell_type": "code",
   "execution_count": 116,
   "metadata": {},
   "outputs": [],
   "source": [
    "# Now, that's not a very useful feature - let's drop it from the dataset\n",
    "\n",
    "traindata.drop('num_outbound_cmds', axis = 1, inplace=True)\n",
    "testdata.drop('num_outbound_cmds', axis = 1, inplace=True)\n",
    "numeric_cols.remove('num_outbound_cmds')"
   ]
  },
  {
   "cell_type": "markdown",
   "metadata": {},
   "source": [
    "Data Preparation"
   ]
  },
  {
   "cell_type": "code",
   "execution_count": 117,
   "metadata": {},
   "outputs": [
    {
     "data": {
      "text/plain": [
       "0    benign\n",
       "1    benign\n",
       "2       dos\n",
       "3    benign\n",
       "4    benign\n",
       "Name: attack_catagory, dtype: object"
      ]
     },
     "execution_count": 117,
     "metadata": {},
     "output_type": "execute_result"
    }
   ],
   "source": [
    "train_Y = traindata['attack_catagory']\n",
    "train_x_raw = traindata.drop(['attack_catagory','type'], axis=1)\n",
    "test_Y = testdata['attack_catagory']\n",
    "test_x_raw = testdata.drop(['attack_catagory','type'], axis=1)\n",
    "train_Y.head()\n"
   ]
  },
  {
   "cell_type": "code",
   "execution_count": 118,
   "metadata": {},
   "outputs": [
    {
     "name": "stdout",
     "output_type": "stream",
     "text": [
      "['benign' 'dos' 'r2l' 'probe' 'u2r']\n"
     ]
    }
   ],
   "source": [
    "target_names = train_Y.unique()\n",
    "print(target_names)"
   ]
  },
  {
   "cell_type": "code",
   "execution_count": 119,
   "metadata": {},
   "outputs": [
    {
     "data": {
      "text/plain": [
       "5"
      ]
     },
     "execution_count": 119,
     "metadata": {},
     "output_type": "execute_result"
    }
   ],
   "source": [
    "num_classes = len(np.unique(train_Y))\n",
    "num_classes"
   ]
  },
  {
   "cell_type": "markdown",
   "metadata": {},
   "source": [
    "# Perform labeling of the traing data using labeling api from snorkel\n",
    "Labeling functions (LFs) help users encode domain knowledge and other supervision sources programmatically\n",
    "--Heuristic LFs\n",
    "--There may other heuristics or \"rules of thumb\" that you come up with as you look at the data. So long as you can express it in a function, it's a viable LF!"
   ]
  },
  {
   "cell_type": "code",
   "execution_count": 120,
   "metadata": {},
   "outputs": [],
   "source": [
    "from snorkel.labeling import LabelingFunction\n"
   ]
  },
  {
   "cell_type": "code",
   "execution_count": 121,
   "metadata": {},
   "outputs": [],
   "source": [
    "# For clarity, we define constants to represent the class labels for normal, attack, and abstaining.\n",
    "ABSTAIN = -1\n",
    "NORMAL = 0\n",
    "ATTACK = 1"
   ]
  },
  {
   "cell_type": "markdown",
   "metadata": {},
   "source": [
    "rules: r2l_kdd_rules.pdf\n",
    "Formulation of heuristic rules for R2L attacks\n",
    "1. If during an FTP session, large amount is data is sent from source as compared to destination then warezmaster  \n",
    "    attack can be concluded.\n",
    "\n",
    "   (duration > 265) ∧\n",
    "   (protocol = tcp) ∧\n",
    "   (service = ftp ∨ ftp_data) ∧\n",
    "   (source_bytes > 265616) ∧\n",
    "   (destination_bytes = 0) \u0001 Warezmaster Attack\n",
    "\n",
    "2. If a guest has logged in through an FTP connection, and hidden directories are created then warezmaster attack can\n",
    "   be concluded.\n",
    "   \n",
    "   (protocol = tcp) ∧\n",
    "   (service = ftp ∨ ftp_data) ∧\n",
    "   (hot > 0) ∧\n",
    "   (hot <= 2) ∧\n",
    "   (is_guest_login = 1) \u0001 Warezmaster Attack\n",
    "   \n",
    "3. (duration > 265) ∧\n",
    "   (destination_bytes <= 688) ∧\n",
    "   (is_guest_login = 1) \u0001 Warezmaster Attack\n",
    "   \n",
    "4. If a user, during an FTP session, triggers notably many hot indicators to be set in a small duration of time then \n",
    "   the user maybe downloading illegally posted software from the server\n",
    "   \n",
    "   (duration < 5) ∧\n",
    "   (protocol = tcp) ∧\n",
    "   (service = ftp ∨ ftp_data) ∧\n",
    "   (logged_in = 1 ∨ is_guest_login = 1)\n",
    "   (hot > 25) \u0001 Warezclient Attack\n",
    "   \n",
    "5. (duration <= 4685) ∧\n",
    "   (hot > 0) ∧\n",
    "   (hot <= 25) \u0001 not Warezclient Attack \n",
    "   \n",
    "6. (source_bytes > 265616) ∧\n",
    "    (source_bytes <= 283618) \u0001 Warezmaster Attack "
   ]
  },
  {
   "cell_type": "code",
   "execution_count": 127,
   "metadata": {},
   "outputs": [],
   "source": [
    "@labeling_function()\n",
    "def WarezmasterAttack_large_data(x):\n",
    "    return ATTACK if (x[\"duration\"] > 265) and (x[\"protocol_type\"] == 'tcp') and (x[\"service\"] == \"ftp\" or x[\"service\"] == \"ftp_data\") and (x[\"src_bytes\"] >265616) and (x[\"dst_bytes\"] ==0) else ABSTAIN\n",
    "\n",
    "\n",
    "@labeling_function()\n",
    "def WarezmasterAttack_guest_login(x):\n",
    "    return ATTACK if (x[\"protocol_type\"] == 'tcp') and (x[\"service\"] == \"ftp\" or x[\"service\"] == \"ftp_data\") and (x[\"hot\"] >0) and  (x[\"hot\"] <=0) and (x[\"is_guest_login\"] == 1) else ABSTAIN\n",
    "\n",
    "@labeling_function()\n",
    "def WarezmasterAttack_FTP_connection(x):\n",
    "    return ATTACK if (x[\"duration\"] > 265) and (x[\"dst_bytes\"] <= 688) and (x[\"is_guest_login\"] == 1) else ABSTAIN\n",
    "\n",
    "@labeling_function()\n",
    "def WarezmasterAttack_FTP_session_with_many_hot_indicator(x):\n",
    "    return ATTACK if (x[\"duration\"] < 5) and (x[\"protocol_type\"] == 'tcp') and (x[\"service\"] == \"ftp\" or x[\"service\"] == \"ftp_data\") and (x[\"logged_in\"] ==1) and (x[\"is_guest_login\"] ==1) and (x[\"hot\"] > 25)  else ABSTAIN\n",
    "\n",
    "@labeling_function()\n",
    "def WarezmasterAttack_hot_indicator(x):\n",
    "    return ATTACK if (x[\"dst_bytes\"] > 3299) and (x[\"hot\"] > 25)  else ABSTAIN\n",
    "\n",
    "@labeling_function()\n",
    "def WarezmasterAttack_FTP_data_upload(x):\n",
    "    return ATTACK if (x[\"src_bytes\"] > 265616) and (x[\"src_bytes\"] <= 283618)  else ABSTAIN\n"
   ]
  },
  {
   "cell_type": "code",
   "execution_count": 128,
   "metadata": {},
   "outputs": [
    {
     "name": "stderr",
     "output_type": "stream",
     "text": [
      "\n",
      "\n",
      "\n",
      "\n",
      "  0%|          | 0/25192 [00:00<?, ?it/s]\u001b[A\u001b[A\u001b[A\u001b[A\n",
      "\n",
      "\n",
      "\n",
      "  3%|▎         | 713/25192 [00:00<00:03, 7127.80it/s]\u001b[A\u001b[A\u001b[A\u001b[A\n",
      "\n",
      "\n",
      "\n",
      "  7%|▋         | 1815/25192 [00:00<00:02, 7971.61it/s]\u001b[A\u001b[A\u001b[A\u001b[A\n",
      "\n",
      "\n",
      "\n",
      " 12%|█▏        | 2999/25192 [00:00<00:02, 8836.94it/s]\u001b[A\u001b[A\u001b[A\u001b[A\n",
      "\n",
      "\n",
      "\n",
      " 17%|█▋        | 4209/25192 [00:00<00:02, 9614.63it/s]\u001b[A\u001b[A\u001b[A\u001b[A\n",
      "\n",
      "\n",
      "\n",
      " 22%|██▏       | 5425/25192 [00:00<00:01, 10258.24it/s]\u001b[A\u001b[A\u001b[A\u001b[A\n",
      "\n",
      "\n",
      "\n",
      " 26%|██▌       | 6597/25192 [00:00<00:01, 10655.71it/s]\u001b[A\u001b[A\u001b[A\u001b[A\n",
      "\n",
      "\n",
      "\n",
      " 31%|███       | 7718/25192 [00:00<00:01, 10815.65it/s]\u001b[A\u001b[A\u001b[A\u001b[A\n",
      "\n",
      "\n",
      "\n",
      " 35%|███▌      | 8939/25192 [00:00<00:01, 11198.87it/s]\u001b[A\u001b[A\u001b[A\u001b[A\n",
      "\n",
      "\n",
      "\n",
      " 40%|████      | 10121/25192 [00:00<00:01, 11376.96it/s]\u001b[A\u001b[A\u001b[A\u001b[A\n",
      "\n",
      "\n",
      "\n",
      " 45%|████▌     | 11342/25192 [00:01<00:01, 11613.07it/s]\u001b[A\u001b[A\u001b[A\u001b[A\n",
      "\n",
      "\n",
      "\n",
      " 50%|████▉     | 12497/25192 [00:01<00:01, 11579.53it/s]\u001b[A\u001b[A\u001b[A\u001b[A\n",
      "\n",
      "\n",
      "\n",
      " 54%|█████▍    | 13725/25192 [00:01<00:00, 11780.79it/s]\u001b[A\u001b[A\u001b[A\u001b[A\n",
      "\n",
      "\n",
      "\n",
      " 59%|█████▉    | 14955/25192 [00:01<00:00, 11931.51it/s]\u001b[A\u001b[A\u001b[A\u001b[A\n",
      "\n",
      "\n",
      "\n",
      " 64%|██████▍   | 16147/25192 [00:01<00:00, 11591.90it/s]\u001b[A\u001b[A\u001b[A\u001b[A\n",
      "\n",
      "\n",
      "\n",
      " 69%|██████▊   | 17308/25192 [00:01<00:00, 10344.97it/s]\u001b[A\u001b[A\u001b[A\u001b[A\n",
      "\n",
      "\n",
      "\n",
      " 73%|███████▎  | 18369/25192 [00:01<00:00, 10213.43it/s]\u001b[A\u001b[A\u001b[A\u001b[A\n",
      "\n",
      "\n",
      "\n",
      " 77%|███████▋  | 19409/25192 [00:01<00:00, 10013.86it/s]\u001b[A\u001b[A\u001b[A\u001b[A\n",
      "\n",
      "\n",
      "\n",
      " 81%|████████  | 20425/25192 [00:01<00:00, 9933.80it/s] \u001b[A\u001b[A\u001b[A\u001b[A\n",
      "\n",
      "\n",
      "\n",
      " 85%|████████▌ | 21429/25192 [00:01<00:00, 9845.34it/s]\u001b[A\u001b[A\u001b[A\u001b[A\n",
      "\n",
      "\n",
      "\n",
      " 89%|████████▉ | 22421/25192 [00:02<00:00, 9752.25it/s]\u001b[A\u001b[A\u001b[A\u001b[A\n",
      "\n",
      "\n",
      "\n",
      " 93%|█████████▎| 23402/25192 [00:02<00:00, 9458.63it/s]\u001b[A\u001b[A\u001b[A\u001b[A\n",
      "\n",
      "\n",
      "\n",
      "100%|██████████| 25192/25192 [00:02<00:00, 10508.94it/s][A\u001b[A\u001b[A\u001b[A\n"
     ]
    }
   ],
   "source": [
    "from snorkel.labeling import PandasLFApplier\n",
    "\n",
    "lfs = [WarezmasterAttack_large_data, WarezmasterAttack_guest_login, WarezmasterAttack_FTP_connection, WarezmasterAttack_FTP_session_with_many_hot_indicator, WarezmasterAttack_hot_indicator, WarezmasterAttack_FTP_data_upload ]\n",
    "# lfs = [WarezmasterAttack_large_data, \n",
    "#        WarezmasterAttack_guest_login, \n",
    "#        WarezmasterAttack_FTP_connection, \n",
    "#        WarezmasterAttack_FTP_connection1, \n",
    "#        WarezmasterAttack_FTP_session, \n",
    "#        WarezmasterAttack_FTP_session1 ]\n",
    "\n",
    "applier = PandasLFApplier(lfs=lfs)\n",
    "L_train = applier.apply(df=train_x_raw)\n",
    "#L_dev = applier.apply(df=df_dev)"
   ]
  },
  {
   "cell_type": "code",
   "execution_count": 131,
   "metadata": {},
   "outputs": [
    {
     "data": {
      "text/html": [
       "<div>\n",
       "<style scoped>\n",
       "    .dataframe tbody tr th:only-of-type {\n",
       "        vertical-align: middle;\n",
       "    }\n",
       "\n",
       "    .dataframe tbody tr th {\n",
       "        vertical-align: top;\n",
       "    }\n",
       "\n",
       "    .dataframe thead th {\n",
       "        text-align: right;\n",
       "    }\n",
       "</style>\n",
       "<table border=\"1\" class=\"dataframe\">\n",
       "  <thead>\n",
       "    <tr style=\"text-align: right;\">\n",
       "      <th></th>\n",
       "      <th>j</th>\n",
       "      <th>Polarity</th>\n",
       "      <th>Coverage</th>\n",
       "      <th>Overlaps</th>\n",
       "      <th>Conflicts</th>\n",
       "    </tr>\n",
       "  </thead>\n",
       "  <tbody>\n",
       "    <tr>\n",
       "      <th>WarezmasterAttack_large_data</th>\n",
       "      <td>0</td>\n",
       "      <td>[1]</td>\n",
       "      <td>0.000516</td>\n",
       "      <td>0.0</td>\n",
       "      <td>0.0</td>\n",
       "    </tr>\n",
       "    <tr>\n",
       "      <th>WarezmasterAttack_guest_login</th>\n",
       "      <td>1</td>\n",
       "      <td>[]</td>\n",
       "      <td>0.000000</td>\n",
       "      <td>0.0</td>\n",
       "      <td>0.0</td>\n",
       "    </tr>\n",
       "    <tr>\n",
       "      <th>WarezmasterAttack_FTP_connection</th>\n",
       "      <td>2</td>\n",
       "      <td>[]</td>\n",
       "      <td>0.000000</td>\n",
       "      <td>0.0</td>\n",
       "      <td>0.0</td>\n",
       "    </tr>\n",
       "    <tr>\n",
       "      <th>WarezmasterAttack_FTP_session_with_many_hot_indicator</th>\n",
       "      <td>3</td>\n",
       "      <td>[1]</td>\n",
       "      <td>0.002064</td>\n",
       "      <td>0.0</td>\n",
       "      <td>0.0</td>\n",
       "    </tr>\n",
       "    <tr>\n",
       "      <th>WarezmasterAttack_hot_indicator</th>\n",
       "      <td>4</td>\n",
       "      <td>[1]</td>\n",
       "      <td>0.002223</td>\n",
       "      <td>0.0</td>\n",
       "      <td>0.0</td>\n",
       "    </tr>\n",
       "    <tr>\n",
       "      <th>WarezmasterAttack_FTP_data_upload</th>\n",
       "      <td>5</td>\n",
       "      <td>[]</td>\n",
       "      <td>0.000000</td>\n",
       "      <td>0.0</td>\n",
       "      <td>0.0</td>\n",
       "    </tr>\n",
       "  </tbody>\n",
       "</table>\n",
       "</div>"
      ],
      "text/plain": [
       "                                                    j Polarity  Coverage  \\\n",
       "WarezmasterAttack_large_data                        0      [1]  0.000516   \n",
       "WarezmasterAttack_guest_login                       1       []  0.000000   \n",
       "WarezmasterAttack_FTP_connection                    2       []  0.000000   \n",
       "WarezmasterAttack_FTP_session_with_many_hot_ind...  3      [1]  0.002064   \n",
       "WarezmasterAttack_hot_indicator                     4      [1]  0.002223   \n",
       "WarezmasterAttack_FTP_data_upload                   5       []  0.000000   \n",
       "\n",
       "                                                    Overlaps  Conflicts  \n",
       "WarezmasterAttack_large_data                             0.0        0.0  \n",
       "WarezmasterAttack_guest_login                            0.0        0.0  \n",
       "WarezmasterAttack_FTP_connection                         0.0        0.0  \n",
       "WarezmasterAttack_FTP_session_with_many_hot_ind...       0.0        0.0  \n",
       "WarezmasterAttack_hot_indicator                          0.0        0.0  \n",
       "WarezmasterAttack_FTP_data_upload                        0.0        0.0  "
      ]
     },
     "execution_count": 131,
     "metadata": {},
     "output_type": "execute_result"
    }
   ],
   "source": [
    "from snorkel.labeling import LFAnalysis\n",
    "\n",
    "LFAnalysis(L=L_train, lfs=lfs).lf_summary()"
   ]
  },
  {
   "cell_type": "code",
   "execution_count": 132,
   "metadata": {},
   "outputs": [
    {
     "data": {
      "text/plain": [
       "array([[-1, -1, -1, -1, -1, -1],\n",
       "       [-1, -1, -1, -1, -1, -1],\n",
       "       [-1, -1, -1, -1, -1, -1],\n",
       "       ...,\n",
       "       [-1, -1, -1, -1, -1, -1],\n",
       "       [-1, -1, -1, -1, -1, -1],\n",
       "       [-1, -1, -1, -1, -1, -1]])"
      ]
     },
     "execution_count": 132,
     "metadata": {},
     "output_type": "execute_result"
    }
   ],
   "source": [
    "L_train"
   ]
  },
  {
   "cell_type": "code",
   "execution_count": 135,
   "metadata": {},
   "outputs": [
    {
     "name": "stdout",
     "output_type": "stream",
     "text": [
      "WarezmasterAttack_large_data coverage: 0.1%\n",
      "WarezmasterAttack_guest_login coverage: 0.0%\n",
      "WarezmasterAttack_FTP_connection coverage: 0.0%\n",
      "WarezmasterAttack_FTP_session_with_many_hot_indicator coverage: 0.2%\n",
      "WarezmasterAttack_hot_indicator coverage: 0.2%\n",
      "WarezmasterAttack_FTP_data_upload coverage: 0.0%\n"
     ]
    }
   ],
   "source": [
    "WarezmasterAttack_large_data, WarezmasterAttack_guest_login, WarezmasterAttack_FTP_connection, WarezmasterAttack_FTP_session_with_many_hot_indicator, WarezmasterAttack_hot_indicator, WarezmasterAttack_FTP_data_upload  = (L_train != ABSTAIN).mean(axis=0)\n",
    "print(f\"WarezmasterAttack_large_data coverage: {WarezmasterAttack_large_data * 100:.1f}%\")\n",
    "print(f\"WarezmasterAttack_guest_login coverage: {WarezmasterAttack_guest_login * 100:.1f}%\")\n",
    "print(f\"WarezmasterAttack_FTP_connection coverage: {WarezmasterAttack_FTP_connection * 100:.1f}%\")\n",
    "print(f\"WarezmasterAttack_FTP_session_with_many_hot_indicator coverage: {WarezmasterAttack_FTP_session_with_many_hot_indicator * 100:.1f}%\")\n",
    "print(f\"WarezmasterAttack_hot_indicator coverage: {WarezmasterAttack_hot_indicator * 100:.1f}%\")\n",
    "print(f\"WarezmasterAttack_FTP_data_upload coverage: {WarezmasterAttack_FTP_data_upload * 100:.1f}%\")"
   ]
  },
  {
   "cell_type": "code",
   "execution_count": 148,
   "metadata": {},
   "outputs": [
    {
     "data": {
      "text/html": [
       "<div>\n",
       "<style scoped>\n",
       "    .dataframe tbody tr th:only-of-type {\n",
       "        vertical-align: middle;\n",
       "    }\n",
       "\n",
       "    .dataframe tbody tr th {\n",
       "        vertical-align: top;\n",
       "    }\n",
       "\n",
       "    .dataframe thead th {\n",
       "        text-align: right;\n",
       "    }\n",
       "</style>\n",
       "<table border=\"1\" class=\"dataframe\">\n",
       "  <thead>\n",
       "    <tr style=\"text-align: right;\">\n",
       "      <th></th>\n",
       "      <th>j</th>\n",
       "      <th>Polarity</th>\n",
       "      <th>Coverage</th>\n",
       "      <th>Overlaps</th>\n",
       "      <th>Conflicts</th>\n",
       "    </tr>\n",
       "  </thead>\n",
       "  <tbody>\n",
       "    <tr>\n",
       "      <th>WarezmasterAttack_large_data</th>\n",
       "      <td>0</td>\n",
       "      <td>[1]</td>\n",
       "      <td>0.000516</td>\n",
       "      <td>0.0</td>\n",
       "      <td>0.0</td>\n",
       "    </tr>\n",
       "    <tr>\n",
       "      <th>WarezmasterAttack_guest_login</th>\n",
       "      <td>1</td>\n",
       "      <td>[]</td>\n",
       "      <td>0.000000</td>\n",
       "      <td>0.0</td>\n",
       "      <td>0.0</td>\n",
       "    </tr>\n",
       "    <tr>\n",
       "      <th>WarezmasterAttack_FTP_connection</th>\n",
       "      <td>2</td>\n",
       "      <td>[]</td>\n",
       "      <td>0.000000</td>\n",
       "      <td>0.0</td>\n",
       "      <td>0.0</td>\n",
       "    </tr>\n",
       "    <tr>\n",
       "      <th>WarezmasterAttack_FTP_session_with_many_hot_indicator</th>\n",
       "      <td>3</td>\n",
       "      <td>[1]</td>\n",
       "      <td>0.002064</td>\n",
       "      <td>0.0</td>\n",
       "      <td>0.0</td>\n",
       "    </tr>\n",
       "    <tr>\n",
       "      <th>WarezmasterAttack_hot_indicator</th>\n",
       "      <td>4</td>\n",
       "      <td>[1]</td>\n",
       "      <td>0.002223</td>\n",
       "      <td>0.0</td>\n",
       "      <td>0.0</td>\n",
       "    </tr>\n",
       "    <tr>\n",
       "      <th>WarezmasterAttack_FTP_data_upload</th>\n",
       "      <td>5</td>\n",
       "      <td>[]</td>\n",
       "      <td>0.000000</td>\n",
       "      <td>0.0</td>\n",
       "      <td>0.0</td>\n",
       "    </tr>\n",
       "  </tbody>\n",
       "</table>\n",
       "</div>"
      ],
      "text/plain": [
       "                                                    j Polarity  Coverage  \\\n",
       "WarezmasterAttack_large_data                        0      [1]  0.000516   \n",
       "WarezmasterAttack_guest_login                       1       []  0.000000   \n",
       "WarezmasterAttack_FTP_connection                    2       []  0.000000   \n",
       "WarezmasterAttack_FTP_session_with_many_hot_ind...  3      [1]  0.002064   \n",
       "WarezmasterAttack_hot_indicator                     4      [1]  0.002223   \n",
       "WarezmasterAttack_FTP_data_upload                   5       []  0.000000   \n",
       "\n",
       "                                                    Overlaps  Conflicts  \n",
       "WarezmasterAttack_large_data                             0.0        0.0  \n",
       "WarezmasterAttack_guest_login                            0.0        0.0  \n",
       "WarezmasterAttack_FTP_connection                         0.0        0.0  \n",
       "WarezmasterAttack_FTP_session_with_many_hot_ind...       0.0        0.0  \n",
       "WarezmasterAttack_hot_indicator                          0.0        0.0  \n",
       "WarezmasterAttack_FTP_data_upload                        0.0        0.0  "
      ]
     },
     "execution_count": 148,
     "metadata": {},
     "output_type": "execute_result"
    }
   ],
   "source": [
    "from snorkel.labeling import LFAnalysis\n",
    "\n",
    "LFAnalysis(L=L_train, lfs=lfs).lf_summary()"
   ]
  },
  {
   "cell_type": "code",
   "execution_count": 159,
   "metadata": {},
   "outputs": [],
   "source": [
    "le = LabelEncoder()\n",
    "#print(train_Y.astype(str))\n",
    "le.fit(train_Y.astype(str))\n",
    "train_Y_trans = le.transform(train_Y.astype(str))"
   ]
  },
  {
   "cell_type": "code",
   "execution_count": 160,
   "metadata": {},
   "outputs": [
    {
     "data": {
      "text/html": [
       "<div>\n",
       "<style scoped>\n",
       "    .dataframe tbody tr th:only-of-type {\n",
       "        vertical-align: middle;\n",
       "    }\n",
       "\n",
       "    .dataframe tbody tr th {\n",
       "        vertical-align: top;\n",
       "    }\n",
       "\n",
       "    .dataframe thead th {\n",
       "        text-align: right;\n",
       "    }\n",
       "</style>\n",
       "<table border=\"1\" class=\"dataframe\">\n",
       "  <thead>\n",
       "    <tr style=\"text-align: right;\">\n",
       "      <th></th>\n",
       "      <th>j</th>\n",
       "      <th>Polarity</th>\n",
       "      <th>Coverage</th>\n",
       "      <th>Overlaps</th>\n",
       "      <th>Conflicts</th>\n",
       "      <th>Correct</th>\n",
       "      <th>Incorrect</th>\n",
       "      <th>Emp. Acc.</th>\n",
       "    </tr>\n",
       "  </thead>\n",
       "  <tbody>\n",
       "    <tr>\n",
       "      <th>WarezmasterAttack_large_data</th>\n",
       "      <td>0</td>\n",
       "      <td>[1]</td>\n",
       "      <td>0.000516</td>\n",
       "      <td>0.0</td>\n",
       "      <td>0.0</td>\n",
       "      <td>0</td>\n",
       "      <td>13</td>\n",
       "      <td>0.0</td>\n",
       "    </tr>\n",
       "    <tr>\n",
       "      <th>WarezmasterAttack_guest_login</th>\n",
       "      <td>1</td>\n",
       "      <td>[]</td>\n",
       "      <td>0.000000</td>\n",
       "      <td>0.0</td>\n",
       "      <td>0.0</td>\n",
       "      <td>0</td>\n",
       "      <td>0</td>\n",
       "      <td>0.0</td>\n",
       "    </tr>\n",
       "    <tr>\n",
       "      <th>WarezmasterAttack_FTP_connection</th>\n",
       "      <td>2</td>\n",
       "      <td>[]</td>\n",
       "      <td>0.000000</td>\n",
       "      <td>0.0</td>\n",
       "      <td>0.0</td>\n",
       "      <td>0</td>\n",
       "      <td>0</td>\n",
       "      <td>0.0</td>\n",
       "    </tr>\n",
       "    <tr>\n",
       "      <th>WarezmasterAttack_FTP_session_with_many_hot_indicator</th>\n",
       "      <td>3</td>\n",
       "      <td>[1]</td>\n",
       "      <td>0.002064</td>\n",
       "      <td>0.0</td>\n",
       "      <td>0.0</td>\n",
       "      <td>0</td>\n",
       "      <td>52</td>\n",
       "      <td>0.0</td>\n",
       "    </tr>\n",
       "    <tr>\n",
       "      <th>WarezmasterAttack_hot_indicator</th>\n",
       "      <td>4</td>\n",
       "      <td>[1]</td>\n",
       "      <td>0.002223</td>\n",
       "      <td>0.0</td>\n",
       "      <td>0.0</td>\n",
       "      <td>0</td>\n",
       "      <td>56</td>\n",
       "      <td>0.0</td>\n",
       "    </tr>\n",
       "    <tr>\n",
       "      <th>WarezmasterAttack_FTP_data_upload</th>\n",
       "      <td>5</td>\n",
       "      <td>[]</td>\n",
       "      <td>0.000000</td>\n",
       "      <td>0.0</td>\n",
       "      <td>0.0</td>\n",
       "      <td>0</td>\n",
       "      <td>0</td>\n",
       "      <td>0.0</td>\n",
       "    </tr>\n",
       "  </tbody>\n",
       "</table>\n",
       "</div>"
      ],
      "text/plain": [
       "                                                    j Polarity  Coverage  \\\n",
       "WarezmasterAttack_large_data                        0      [1]  0.000516   \n",
       "WarezmasterAttack_guest_login                       1       []  0.000000   \n",
       "WarezmasterAttack_FTP_connection                    2       []  0.000000   \n",
       "WarezmasterAttack_FTP_session_with_many_hot_ind...  3      [1]  0.002064   \n",
       "WarezmasterAttack_hot_indicator                     4      [1]  0.002223   \n",
       "WarezmasterAttack_FTP_data_upload                   5       []  0.000000   \n",
       "\n",
       "                                                    Overlaps  Conflicts  \\\n",
       "WarezmasterAttack_large_data                             0.0        0.0   \n",
       "WarezmasterAttack_guest_login                            0.0        0.0   \n",
       "WarezmasterAttack_FTP_connection                         0.0        0.0   \n",
       "WarezmasterAttack_FTP_session_with_many_hot_ind...       0.0        0.0   \n",
       "WarezmasterAttack_hot_indicator                          0.0        0.0   \n",
       "WarezmasterAttack_FTP_data_upload                        0.0        0.0   \n",
       "\n",
       "                                                    Correct  Incorrect  \\\n",
       "WarezmasterAttack_large_data                              0         13   \n",
       "WarezmasterAttack_guest_login                             0          0   \n",
       "WarezmasterAttack_FTP_connection                          0          0   \n",
       "WarezmasterAttack_FTP_session_with_many_hot_ind...        0         52   \n",
       "WarezmasterAttack_hot_indicator                           0         56   \n",
       "WarezmasterAttack_FTP_data_upload                         0          0   \n",
       "\n",
       "                                                    Emp. Acc.  \n",
       "WarezmasterAttack_large_data                              0.0  \n",
       "WarezmasterAttack_guest_login                             0.0  \n",
       "WarezmasterAttack_FTP_connection                          0.0  \n",
       "WarezmasterAttack_FTP_session_with_many_hot_ind...        0.0  \n",
       "WarezmasterAttack_hot_indicator                           0.0  \n",
       "WarezmasterAttack_FTP_data_upload                         0.0  "
      ]
     },
     "execution_count": 160,
     "metadata": {},
     "output_type": "execute_result"
    }
   ],
   "source": [
    "#change to L_dev later\n",
    "LFAnalysis(L_train, lfs).lf_summary(Y=train_Y_trans)"
   ]
  },
  {
   "cell_type": "code",
   "execution_count": 149,
   "metadata": {},
   "outputs": [
    {
     "data": {
      "image/png": "[encoded data removed]",
      "text/plain": [
       "<Figure size 432x288 with 1 Axes>"
      ]
     },
     "metadata": {
      "needs_background": "light"
     },
     "output_type": "display_data"
    }
   ],
   "source": [
    "def plot_label_frequency(L):\n",
    "    plt.hist((L != ABSTAIN).sum(axis=1), density=True, bins=range(L.shape[1]))\n",
    "    plt.xlabel(\"Number of labels\")\n",
    "    plt.ylabel(\"Fraction of dataset\")\n",
    "    plt.show()\n",
    "\n",
    "\n",
    "plot_label_frequency(L_train)"
   ]
  },
  {
   "cell_type": "code",
   "execution_count": 150,
   "metadata": {},
   "outputs": [],
   "source": [
    "from snorkel.labeling import MajorityLabelVoter\n",
    "\n",
    "majority_model = MajorityLabelVoter()\n",
    "preds_train = majority_model.predict(L=L_train)"
   ]
  },
  {
   "cell_type": "code",
   "execution_count": 151,
   "metadata": {},
   "outputs": [
    {
     "data": {
      "text/plain": [
       "array([-1, -1, -1, ..., -1, -1, -1])"
      ]
     },
     "execution_count": 151,
     "metadata": {},
     "output_type": "execute_result"
    }
   ],
   "source": [
    "preds_train"
   ]
  },
  {
   "cell_type": "code",
   "execution_count": 152,
   "metadata": {},
   "outputs": [],
   "source": [
    "from snorkel.labeling import LabelModel\n",
    "\n",
    "label_model = LabelModel(cardinality=2, verbose=True)\n",
    "label_model.fit(L_train=L_train, n_epochs=500, lr=0.001, log_freq=100, seed=123)"
   ]
  },
  {
   "cell_type": "code",
   "execution_count": 153,
   "metadata": {},
   "outputs": [
    {
     "ename": "NameError",
     "evalue": "name 'majority_acc' is not defined",
     "output_type": "error",
     "traceback": [
      "\u001b[0;31m---------------------------------------------------------------------------\u001b[0m",
      "\u001b[0;31mNameError\u001b[0m                                 Traceback (most recent call last)",
      "\u001b[0;32m<ipython-input-153-b10288ee723f>\u001b[0m in \u001b[0;36m<module>\u001b[0;34m\u001b[0m\n\u001b[0;32m----> 1\u001b[0;31m \u001b[0mprint\u001b[0m\u001b[0;34m(\u001b[0m\u001b[0;34mf\"{'Majority Vote Accuracy:':<25} {majority_acc * 100:.1f}%\"\u001b[0m\u001b[0;34m)\u001b[0m\u001b[0;34m\u001b[0m\u001b[0;34m\u001b[0m\u001b[0m\n\u001b[0m\u001b[1;32m      2\u001b[0m \u001b[0;34m\u001b[0m\u001b[0m\n\u001b[1;32m      3\u001b[0m \u001b[0mlabel_model_acc\u001b[0m \u001b[0;34m=\u001b[0m \u001b[0mlabel_model\u001b[0m\u001b[0;34m.\u001b[0m\u001b[0mscore\u001b[0m\u001b[0;34m(\u001b[0m\u001b[0mL\u001b[0m\u001b[0;34m=\u001b[0m\u001b[0mL_valid\u001b[0m\u001b[0;34m,\u001b[0m \u001b[0mY\u001b[0m\u001b[0;34m=\u001b[0m\u001b[0mY_valid\u001b[0m\u001b[0;34m)\u001b[0m\u001b[0;34m[\u001b[0m\u001b[0;34m\"accuracy\"\u001b[0m\u001b[0;34m]\u001b[0m\u001b[0;34m\u001b[0m\u001b[0;34m\u001b[0m\u001b[0m\n\u001b[1;32m      4\u001b[0m \u001b[0mprint\u001b[0m\u001b[0;34m(\u001b[0m\u001b[0;34mf\"{'Label Model Accuracy:':<25} {label_model_acc * 100:.1f}%\"\u001b[0m\u001b[0;34m)\u001b[0m\u001b[0;34m\u001b[0m\u001b[0;34m\u001b[0m\u001b[0m\n",
      "\u001b[0;31mNameError\u001b[0m: name 'majority_acc' is not defined"
     ]
    }
   ],
   "source": [
    "print(f\"{'Majority Vote Accuracy:':<25} {majority_acc * 100:.1f}%\")\n",
    "\n",
    "label_model_acc = label_model.score(L=L_valid, Y=Y_valid)[\"accuracy\"]\n",
    "print(f\"{'Label Model Accuracy:':<25} {label_model_acc * 100:.1f}%\")"
   ]
  },
  {
   "cell_type": "markdown",
   "metadata": {},
   "source": [
    "# before encoding perform the labeling using snorkel\n"
   ]
  },
  {
   "cell_type": "code",
   "execution_count": null,
   "metadata": {},
   "outputs": [],
   "source": [
    "\n",
    "combined_df_raw = pd.concat([train_x_raw, test_x_raw])\n",
    "\n",
    "combined_df = pd.get_dummies(combined_df_raw, columns=nominal_cols, drop_first=True)\n",
    "\n",
    "train_x = combined_df[:len(train_x_raw)]\n",
    "test_x = combined_df[len(train_x_raw):]\n",
    "# Store dummy variable feature names\n",
    "dummy_variables = list(set(train_x)-set(combined_df_raw))"
   ]
  },
  {
   "cell_type": "code",
   "execution_count": null,
   "metadata": {},
   "outputs": [],
   "source": [
    "test_x.head()"
   ]
  },
  {
   "cell_type": "code",
   "execution_count": null,
   "metadata": {},
   "outputs": [],
   "source": [
    "train_x['duration'].describe()"
   ]
  },
  {
   "cell_type": "code",
   "execution_count": null,
   "metadata": {},
   "outputs": [],
   "source": [
    "# Experimenting with StandardScaler on the single 'duration' feature\n",
    "from sklearn.preprocessing import StandardScaler\n",
    "\n",
    "durations = train_x['duration'].values.reshape(-1, 1)\n",
    "standard_scaler = StandardScaler().fit(durations)\n",
    "scaled_durations = standard_scaler.transform(durations)\n",
    "pd.Series(scaled_durations.flatten()).describe()"
   ]
  },
  {
   "cell_type": "code",
   "execution_count": null,
   "metadata": {},
   "outputs": [],
   "source": [
    "from sklearn.preprocessing import MinMaxScaler\n",
    "\n",
    "min_max_scaler = MinMaxScaler().fit(durations)\n",
    "min_max_scaled_durations = min_max_scaler.transform(durations)\n",
    "pd.Series(min_max_scaled_durations.flatten()).describe()"
   ]
  },
  {
   "cell_type": "code",
   "execution_count": null,
   "metadata": {},
   "outputs": [],
   "source": [
    "from sklearn.preprocessing import RobustScaler\n",
    "\n",
    "min_max_scaler = RobustScaler().fit(durations)\n",
    "robust_scaled_durations = min_max_scaler.transform(durations)\n",
    "pd.Series(robust_scaled_durations.flatten()).describe()"
   ]
  },
  {
   "cell_type": "code",
   "execution_count": null,
   "metadata": {},
   "outputs": [],
   "source": [
    "# Let's proceed with StandardScaler- Apply to all the numeric columns\n",
    "\n",
    "standard_scaler = StandardScaler().fit(train_x[numeric_cols])\n",
    "\n",
    "train_x[numeric_cols] = \\\n",
    "    standard_scaler.transform(train_x[numeric_cols])\n",
    "\n",
    "test_x[numeric_cols] = \\\n",
    "    standard_scaler.transform(test_x[numeric_cols])"
   ]
  },
  {
   "cell_type": "code",
   "execution_count": null,
   "metadata": {},
   "outputs": [],
   "source": [
    "train_x.describe()"
   ]
  },
  {
   "cell_type": "code",
   "execution_count": null,
   "metadata": {},
   "outputs": [],
   "source": [
    "train_x.head()"
   ]
  },
  {
   "cell_type": "code",
   "execution_count": null,
   "metadata": {},
   "outputs": [],
   "source": [
    "#stanford gmm"
   ]
  },
  {
   "cell_type": "markdown",
   "metadata": {},
   "source": [
    "Attempting unsupervised learning"
   ]
  },
  {
   "cell_type": "code",
   "execution_count": null,
   "metadata": {},
   "outputs": [],
   "source": [
    "# First, let's visualize the dataset (only numeric cols)\n",
    "\n",
    "from sklearn.decomposition import PCA\n",
    "\n",
    "# Use PCA to reduce dimensionality so we can visualize the dataset on a 2d plot\n",
    "# check this  https://github.com/ggulgun/NIDS-Intrusion-Detection/blob/master/IDS.py\n",
    "pca = PCA(n_components=7)\n",
    "train_x_pca_cont = pca.fit_transform(train_x[numeric_cols])\n",
    "\n",
    "plt.figure(figsize=(15,10))\n",
    "colors = ['navy', 'turquoise', 'darkorange', 'red', 'purple']\n",
    "\n",
    "for color, cat in zip(colors, category.keys()):\n",
    "    plt.scatter(train_x_pca_cont[train_Y==cat, 0], train_x_pca_cont[train_Y==cat, 1],\n",
    "                color=color, alpha=.8, lw=2, label=cat)\n",
    "plt.legend(loc='best', shadow=False, scatterpoints=1)\n",
    "\n",
    "plt.show()"
   ]
  },
  {
   "cell_type": "code",
   "execution_count": null,
   "metadata": {},
   "outputs": [],
   "source": [
    "train_x_pca_cont = train_x_pca_cont[:1000]\n",
    "print(train_x_pca_cont.shape)"
   ]
  },
  {
   "cell_type": "code",
   "execution_count": null,
   "metadata": {},
   "outputs": [],
   "source": [
    "train_Y.head()"
   ]
  },
  {
   "cell_type": "code",
   "execution_count": null,
   "metadata": {},
   "outputs": [],
   "source": [
    "# Let's create an object of the class LabelEncoder\n",
    "\n",
    "le = LabelEncoder()\n",
    "#print(train_Y.astype(str))\n",
    "le.fit(train_Y.astype(str))\n",
    "train_Y_trans = le.transform(train_Y.astype(str))\n",
    "#print(le)\n",
    "train_Y_trans\n",
    "\n",
    "\n",
    "\n",
    "#train_Y.head()"
   ]
  },
  {
   "cell_type": "code",
   "execution_count": null,
   "metadata": {},
   "outputs": [],
   "source": [
    "# *** START CODE HERE ***\n",
    "# (1) Initialize mu and sigma by splitting the n_examples data points uniformly at random\n",
    "K=4\n",
    "train_x_pca_cont = train_x_pca_cont[:1000]\n",
    "n,d = train_x_pca_cont.shape\n",
    "print(n,d)\n",
    "group = np.random.choice(K, n)\n",
    "mu = [np.mean(train_x_pca_cont[group == g, :], axis=0) for g in range(K)]\n",
    "sigma = [np.cov(train_x_pca_cont[group == g, :].T) for g in range(K)]\n",
    "print(\"mu\",mu)\n",
    "print(\"sigma\",sigma)\n",
    "\n",
    "\n",
    "\n",
    "# into K groups, then calculating the sample mean and covariance for each group\n",
    "# (2) Initialize phi to place equal probability on each Gaussian\n",
    "# phi should be a numpy array of shape (K,)\n",
    "phi = np.full((K,), fill_value=(1. / K), dtype=np.float32)\n",
    "print(\"phi\",phi)"
   ]
  },
  {
   "cell_type": "code",
   "execution_count": null,
   "metadata": {},
   "outputs": [],
   "source": [
    "\n",
    "#http://www.oranlooney.com/post/ml-from-scratch-part-5-gmm/\n",
    "def plot_axis_pairs(X, axis_pairs, clusters, classes):\n",
    "    n_rows = len(axis_pairs) // 2\n",
    "    n_cols = 2\n",
    "    plt.figure(figsize=(16, 10))\n",
    "    for index, (x_axis, y_axis) in enumerate(axis_pairs):\n",
    "        plt.subplot(n_rows, n_cols, index+1)\n",
    "        plt.title('GMM Clusters')\n",
    "        plt.xlabel(train_x_pca_cont[x_axis])\n",
    "        plt.ylabel(train_x_pca_cont[y_axis])\n",
    "        plt.scatter(\n",
    "            jitter(X[:, x_axis]), \n",
    "            jitter(X[:, y_axis]), \n",
    "            #c=clusters, \n",
    "            cmap=plt.cm.get_cmap('brg'),\n",
    "            marker='x')\n",
    "    plt.tight_layout()\n",
    "    \n",
    "def jitter(x):\n",
    "    return x + np.random.uniform(low=-0.05, high=0.05, size=x.shape)"
   ]
  },
  {
   "cell_type": "code",
   "execution_count": null,
   "metadata": {},
   "outputs": [],
   "source": [
    "exll = []\n",
    "exll.append((1,2.2))\n",
    "exll.append((2,3.1))\n",
    "\n",
    "print(exll)\n",
    "\n",
    "for items in exll:\n",
    "    itr,ll = items\n",
    "    print(itr, \" m \")"
   ]
  },
  {
   "cell_type": "code",
   "execution_count": null,
   "metadata": {
    "scrolled": false
   },
   "outputs": [],
   "source": [
    "\n",
    "\n",
    "# (3) Initialize the w values to place equal probability on each Gaussian\n",
    "# w should be a numpy array of shape (m, K)\n",
    "\n",
    "w = np.full((n, K), fill_value=(1. / K), dtype=np.float32)\n",
    "print(\"w\",w)\n",
    "\n",
    "\n",
    "# *** END CODE HERE ***\n",
    "\n",
    "\n",
    "# if is_semi_supervised:\n",
    "#     w = run_semi_supervised_em(x, x_tilde, z_tilde, w, phi, mu, sigma)\n",
    "# else:\n",
    "w, iteration_ll = run_em(train_x_pca_cont, w, phi, mu, sigma)\n",
    "print(\"w after em\",w)\n",
    "# Plot your predictions\n",
    "z_pred = np.zeros(n)\n",
    "if w is not None:  # Just a placeholder for the starter code\n",
    "    for i in range(n):\n",
    "        z_pred[i] = np.argmax(w[i])\n",
    "is_semi_supervised=False\n",
    "trial_num=10\n",
    "#plot_gmm_preds(train_x_pca_cont, z_pred, is_semi_supervised, plot_id=trial_num)\n",
    "print(z_pred)\n",
    "plot_axis_pairs(\n",
    "    X=train_x_pca_cont,\n",
    "    axis_pairs=[ \n",
    "        (0,1), (1,4), \n",
    "        (0,2), (1,2),\n",
    "        (0,3), (1,3)],\n",
    "    clusters=z_pred,\n",
    "    classes=[\"0\",\"1\",\"2\",\"3\",\"4\"])\n",
    "\n",
    "#http://www.oranlooney.com/post/ml-from-scratch-part-5-gmm/\n",
    "\n",
    "permutation = np.array([\n",
    "    mode(train_Y_trans[:1000][z_pred == i]).mode.item() \n",
    "    for i in range(K)])\n",
    "permuted_prediction = permutation[z_pred.astype(int)]\n",
    "print(permuted_prediction)\n",
    "print(np.mean(train_Y_trans[:1000] == permuted_prediction))\n",
    "confusion_matrix(train_Y_trans[:1000], permuted_prediction)\n",
    "\n",
    "#plot of ll and iteration\n",
    "itrs = []\n",
    "lls = []\n",
    "for items in iteration_ll:\n",
    "    itr, logl = items\n",
    "    itrs.append(itr)\n",
    "    lls.append(logl)\n",
    "\n",
    "plt.figure(figsize=(5, 5))\n",
    "plt.title('Log-Likelihood')\n",
    "#plt.plot(np.arange(1, n_epochs + 1), likelihoods)\n",
    "plt.plot(np.arange(1, len(itrs) + 1), lls)\n",
    "plt.show()\n",
    "\n",
    "##how to get mu and sigma? for histogram plot\n",
    "# import seaborn as sns\n",
    "# n = 10000 # number of sample to be drawn\n",
    "# mu = [-6, 5]\n",
    "# sigma = [2, 3]\n",
    "# samples = []\n",
    "# for i in range(n): # iteratively draw samples\n",
    "#     Z = np.random.choice([0,1]) # latent variable\n",
    "#     samples.append(np.random.normal(mu[Z], sigma[Z], 1))\n",
    "# sns.distplot(samples, hist=False)\n",
    "# plt.show()\n",
    "# sns.distplot(samples)\n",
    "# plt.show()"
   ]
  },
  {
   "cell_type": "code",
   "execution_count": null,
   "metadata": {},
   "outputs": [],
   "source": []
  },
  {
   "cell_type": "markdown",
   "metadata": {},
   "source": [
    "# END"
   ]
  },
  {
   "cell_type": "code",
   "execution_count": null,
   "metadata": {},
   "outputs": [],
   "source": []
  },
  {
   "cell_type": "code",
   "execution_count": null,
   "metadata": {},
   "outputs": [],
   "source": []
  },
  {
   "cell_type": "code",
   "execution_count": null,
   "metadata": {},
   "outputs": [],
   "source": []
  },
  {
   "cell_type": "code",
   "execution_count": null,
   "metadata": {},
   "outputs": [],
   "source": []
  },
  {
   "cell_type": "code",
   "execution_count": null,
   "metadata": {},
   "outputs": [],
   "source": []
  }
 ],
 "metadata": {
  "kernelspec": {
   "display_name": "Python 3",
   "language": "python",
   "name": "python3"
  },
  "language_info": {
   "codemirror_mode": {
    "name": "ipython",
    "version": 3
   },
   "file_extension": ".py",
   "mimetype": "text/x-python",
   "name": "python",
   "nbconvert_exporter": "python",
   "pygments_lexer": "ipython3",
   "version": "3.7.3"
  }
 },
 "nbformat": 4,
 "nbformat_minor": 2
}
